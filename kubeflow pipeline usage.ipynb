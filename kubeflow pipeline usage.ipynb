{
 "cells": [
  {
   "cell_type": "markdown",
   "id": "5417077b-1800-45a6-a825-bdbf06e11022",
   "metadata": {},
   "source": [
    "# Forecasting pipeline: Introduction & Overview"
   ]
  },
  {
   "cell_type": "markdown",
   "id": "be6d490b-cab0-4831-a7da-1f389b2dd8ea",
   "metadata": {},
   "source": [
    "## <b>Part 3: Kubeflow UI Usage Introduction</b>\n",
    "<br>"
   ]
  },
  {
   "cell_type": "markdown",
   "id": "7df7d03d-e525-417b-8893-db4dd44dda6b",
   "metadata": {},
   "source": [
    "#### This notebook is to introduce the usage of Kubeflow Pipeline UI and the whole mechanism of how the forecasting pipeline is running\n",
    "<ul>\n",
    "<li>how we build from purple and run in other environments</li>\n",
    "<li>the kubeflow pipeline and description of its user input</li>\n",
    "</ul>"
   ]
  },
  {
   "cell_type": "markdown",
   "id": "eafc26ec-7970-478c-9fa2-04be5febf72d",
   "metadata": {},
   "source": [
    "### <b>the diagram</b>\n",
    "<img src=\"./images/build_from_purple.PNG\"\n",
    "     alt=\"how to deploy from purple and run in other environments\"\n",
    "     style=\"float: center; margin-right: 10px;\" />"
   ]
  },
  {
   "cell_type": "markdown",
   "id": "faec0567-1373-4e23-be3c-5e105a04b4e2",
   "metadata": {},
   "source": [
    "### <b> kubeflow pipeline usage, description of user input</b>"
   ]
  },
  {
   "cell_type": "markdown",
   "id": "3a1b7571-f815-4347-9ea2-a83ff52de92f",
   "metadata": {},
   "source": [
    "#### <b>step 1: open the Kubeflow UI link and find the one for forecasting run</b>\n",
    "<a href=\"https://compliance-kubernetes.systems.uk.hsbc/_/pipeline/#/pipelines\">Link to Kubeflow Pipelines</a>"
   ]
  },
  {
   "cell_type": "markdown",
   "id": "4089e36c-8b6f-4a59-928c-4aabccd96498",
   "metadata": {},
   "source": [
    "##### what you could find on the kubeflow UI <i><b>test_forecast_pln_v1</b></i>\n",
    "<img src=\"./images/forecast_kfp_ui.PNG\"\n",
    "     alt=\"forecast kubeflow pipeline UI\"\n",
    "     style=\"float: center; margin-right: 10px;\" />"
   ]
  },
  {
   "cell_type": "markdown",
   "id": "6bb6dcc1-32d9-4861-96aa-37901953293d",
   "metadata": {},
   "source": [
    "#### <b>step2 : click on the pipeline to see all the parameters for user input</b>"
   ]
  },
  {
   "cell_type": "markdown",
   "id": "bdc067aa-f6ef-410d-918e-9f1f6f0a4706",
   "metadata": {},
   "source": [
    "##### what you could find on the kubeflow UI <i><b>test_forecast_pln_v1</b></i>\n",
    "<img src=\"./images/step_2_create_run.PNG\"\n",
    "     alt=\"how to create a run on kubeflow UI\"\n",
    "     style=\"float: center; margin-right: 10px;\" />"
   ]
  },
  {
   "cell_type": "markdown",
   "id": "b9ed5c6b-314c-4bef-9a61-1fc187ba533e",
   "metadata": {},
   "source": [
    "#### <b>step 3: create run and enter the parameters needed for the run</b>\n",
    "<img src=\"./images/step_3_run_info.PNG\"\n",
    "     alt=\"description of some parameters\"\n",
    "     style=\"float: center; margin-right: 10px;\" />"
   ]
  },
  {
   "cell_type": "markdown",
   "id": "13b666f6-6570-4ef0-a6dc-a15d12f02555",
   "metadata": {},
   "source": [
    "##### more description on <i><b>time_srs_src_mode</b></i>\n",
    "<ul>\n",
    "<li><b><i>from_prior_run</i></b>: training-suitable time series will be generated from prior distribution</li>\n",
    "<li><b><i>bq_extract</i></b>: time-series will be extracted directly from bigqurey tables generated in finserv prediction runs</li>\n",
    "<li><b><i>from_precomputed</i></b>: use the time series generated in previous runs or the manually maintained one under repo directory \n",
    "<ul>\n",
    "<li>A local path within forecasting repo where we maintain manually a golden time series csv which is a suitable source training data for any experiment run\n",
    ", the default one being <b>/forest/local_time_series/hand_maintained_time_series.csv</b></li>\n",
    "<li>A full cloud storage path where we store the time series csv of the previous run. E.g., gs://ilfcrmpurple-experimentation-gb-dev/forecasting_pln/gb/cmb/20220215080319eeeea/forecast_simplified.csv\n",
    "</li>\n",
    "<li>A valid historical run_id (the mechanism is the same as the one above, but the pipeline will figure out the full cloud storage path for you)\n",
    "</li>\n",
    "</ul>    \n",
    "</li>\n",
    "</ul>"
   ]
  },
  {
   "cell_type": "markdown",
   "id": "a33af404-aee2-46c7-b653-dfa39359df73",
   "metadata": {},
   "source": [
    "#### <b>step 4: log checking</b>\n",
    "\n",
    "<b>the command that could be executed from notebook:</b>\n",
    "<br>\n",
    "for example, if you deployed into slot-18-gb-exp, you can run this command to check the run status<br>\n",
    "gcloud logging read --freshness=10d 'resource.labels.container_name=slot-18-gb-exp AND timestamp>\"2022-02-15T11:59:00\" ' --format='table(timestamp, textPayload)' --limit=300"
   ]
  },
  {
   "cell_type": "markdown",
   "id": "64b4a26a-cc0a-4cde-80ef-0328072fb77b",
   "metadata": {},
   "source": []
  }
 ],
 "metadata": {
  "kernelspec": {
   "display_name": "Python3.7",
   "language": "python",
   "name": "py37"
  },
  "language_info": {
   "codemirror_mode": {
    "name": "ipython",
    "version": 3
   },
   "file_extension": ".py",
   "mimetype": "text/x-python",
   "name": "python",
   "nbconvert_exporter": "python",
   "pygments_lexer": "ipython3",
   "version": "3.7.5"
  }
 },
 "nbformat": 4,
 "nbformat_minor": 5
}
