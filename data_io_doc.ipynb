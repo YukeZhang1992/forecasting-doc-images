{
 "cells": [
  {
   "cell_type": "markdown",
   "id": "558eb4d9-0274-4440-9dd8-e7eb0768d9be",
   "metadata": {},
   "source": [
    "# Forecasting pipeline: Introduction & Overview"
   ]
  },
  {
   "cell_type": "markdown",
   "id": "630aedf3-c953-4965-8999-833280d1269a",
   "metadata": {},
   "source": [
    "## <b>Part2 Data In/Out</b>"
   ]
  },
  {
   "cell_type": "markdown",
   "id": "2c12deab-6625-44ec-8f1b-cb1e6b1d6870",
   "metadata": {},
   "source": [
    "<ol>\n",
    "<li>GCP Dataset & Bucket</li>\n",
    "<li>Source Tables Involved</li>\n",
    "<li>Step-level Data Input & Output</li>\n",
    "<li>Output Archiving</li>\n",
    "</ol>"
   ]
  },
  {
   "cell_type": "markdown",
   "id": "550c9f3d-a8b6-44a4-864b-e162a9426faf",
   "metadata": {},
   "source": [
    "### <b>GCP Dataset & Bucket</b>"
   ]
  },
  {
   "cell_type": "markdown",
   "id": "8538faf7-9840-4300-8264-3d2bf7e61967",
   "metadata": {},
   "source": [
    "#### <b>Dataset id: hsbc-7337771-project_prefix-env.dra_experimentation_country_legal_entity_env</b>\n",
    "\n",
    "for example, if it's in red project, then the dataset id is <b>hsbc-7337771-ilfcrm-prod.dra_experimentaion_gb_hsbc_prod</b>"
   ]
  },
  {
   "cell_type": "markdown",
   "id": "66b995ba-cec9-4e06-acf6-64e6a3f1951a",
   "metadata": {},
   "source": [
    "#### <b>cloud storage bucket: project_prefix-experimentation-country-env</b>\n",
    "\n",
    "for example, if it's in red project, then the bucket name is ilfcrm-experimentation-gb-prod"
   ]
  },
  {
   "cell_type": "markdown",
   "id": "4c217964-7185-41dc-8977-48e5cd217f7a",
   "metadata": {},
   "source": [
    "##### the link of related variable can be found under specific color directory\n",
    "\n",
    "<a href=\"https://alm-github.systems.uk.hsbc/FCRGoogleCloud/forecasting-model-purple/tree/master/bash/color\">Link to Repo's Directory</a>"
   ]
  },
  {
   "cell_type": "markdown",
   "id": "b90f0256-983d-4f59-919a-74999624962f",
   "metadata": {},
   "source": [
    "#### <b>Training Data Source</b>\n",
    "the source trainin data for overlap model could be retrieved from the following tables, which are generated for each prediction run launched\n",
    "<ul>\n",
    "<li>dra_predictions_table_suffix</li>\n",
    "<li>dra_post_output_rules_table_suffix</li>\n",
    "<li>dra_top_activitity_table_suffix</li>\n",
    "</ul>\n",
    "\n",
    "the training data source is defined in a configuration yaml\n",
    "<ul>\n",
    "<li>for cmb: <a href=\"https://alm-github.systems.uk.hsbc/FCRGoogleCloud/forecasting-model-purple/blob/master/bash/color/red/cmb_train_data_config.yaml\">cmb training data config yaml link</a></li>\n",
    "\n",
    "\n",
    "<li>for wpb: <a href=\"https://alm-github.systems.uk.hsbc/FCRGoogleCloud/forecasting-model-purple/blob/master/bash/color/red/wpb_train_data_config.yaml\">wpb training data config yaml link</a></li>\n",
    "</ul>"
   ]
  },
  {
   "cell_type": "markdown",
   "id": "28f96648-b103-4732-8805-1b49b0ad9638",
   "metadata": {},
   "source": [
    "#### <b>Step-level Data Input/Output</b>"
   ]
  },
  {
   "cell_type": "markdown",
   "id": "d3d3d051-bd8e-4991-b75f-b535767fd49f",
   "metadata": {},
   "source": [
    "##### forecasting pipeline diagram \n",
    "<img src=\"./images/forecasting pipeline flow.png\"\n",
    "     alt=\"forecasting pipeline flow\"\n",
    "     style=\"float: center; margin-right: 10px;\" />"
   ]
  },
  {
   "cell_type": "markdown",
   "id": "2738b3b7-3c45-4b36-af18-4eacdc992449",
   "metadata": {},
   "source": [
    "step 1: generate prior distribution\n",
    "<ul>\n",
    "<li>output: a joint prior distribution stored in hdf5 file</li>\n",
    "<li>where to save: local path within container, gcs bucket</li>\n",
    "</ul>\n",
    "\n",
    "step 2: generate time series from training source data(bigquery tables)\n",
    "<ul>\n",
    "<li>input: training source data</li>\n",
    "<li>output: time series data in csv file</li>\n",
    "<li>where to save: local path within container, gcs bucket</li>\n",
    "</ul>\n",
    "\n",
    "step 3 : update prior to posterior\n",
    "<ul>\n",
    "<li>input: prior distribution, time series csv</li>\n",
    "<li>output: sampled posterior distribution saved in hdf5 file</li>\n",
    "<li>where to save: local path within container, gcs bucket</li>\n",
    "</ul>\n",
    "\n",
    "step 4: generate forecasted time series\n",
    "<ul>\n",
    "<li>input: sampled posterior distribution</li>\n",
    "<li>output: final-type time series data and training-suitable time series data</li>\n",
    "<li>where to save: local path within container, gcs bucket</li>\n",
    "</ul>\n",
    "\n",
    "step 5: ucm simulation\n",
    "<ul>\n",
    "<li>input: sampled posterior distribution</li>\n",
    "<li>output: UCM simulation result saved in hdf5 file which includes alert counts, backlog size, new case counts amd oldest case days</li>\n",
    "<li>where to save: local path within container, gcs bucket</li>\n",
    "</ul>\n",
    "\n",
    "step 6: extarct the simplified forecast result into bigquery table\n",
    "<ul>\n",
    "<li>input: UCM simulation results saved in hdf5 file</li>\n",
    "<li>output: simplified output which contains month_index, quantitle, alert_count saved in both bigquery table and csv file</li>\n",
    "<li>where to save: local path within container, gcs bucket, bigqury table</li>\n",
    "</ul>"
   ]
  }
 ],
 "metadata": {
  "kernelspec": {
   "display_name": "Python3.7",
   "language": "python",
   "name": "py37"
  },
  "language_info": {
   "codemirror_mode": {
    "name": "ipython",
    "version": 3
   },
   "file_extension": ".py",
   "mimetype": "text/x-python",
   "name": "python",
   "nbconvert_exporter": "python",
   "pygments_lexer": "ipython3",
   "version": "3.7.5"
  }
 },
 "nbformat": 4,
 "nbformat_minor": 5
}
